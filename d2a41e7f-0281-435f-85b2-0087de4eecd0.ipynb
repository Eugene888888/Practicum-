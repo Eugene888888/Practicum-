{
 "cells": [
  {
   "cell_type": "markdown",
   "id": "e097d90f",
   "metadata": {},
   "source": [
    "<div style=\"border:solid green 2px; padding: 20px\">\n",
    "    \n",
    "<b>Евгений, привет!</b> Мы рады тебя видеть на территории код-ревьюеров. Ты проделал большую работу над проектом, но давай познакомимся и сделаем его еще лучше! У нас тут своя атмосфера и несколько правил:\n",
    "\n",
    "\n",
    "1. Меня зовут Александр Матвеевский. Я работаю код-ревьюером, моя основная цель — не указать на совершенные тобою ошибки, а поделиться своим опытом и помочь тебе стать аналитиком данных.\n",
    "2. Общаемся на ты.\n",
    "3. Если хочешь написать, спросить - не нужно стесняться. Только выбери свой цвет для комментария.  \n",
    "4. Это учебный проект, тут можно не бояться сделать ошибку.  \n",
    "5. У тебя неограниченное количество попыток для сдачи проекта.  \n",
    "6. Let's Go!\n",
    "\n",
    "---\n",
    "\n",
    "Я буду красить комментарии цветом, пожалуйста, не удаляй их:\n",
    "\n",
    "<div class=\"alert alert-block alert-danger\">✍\n",
    "    \n",
    "\n",
    "__Комментарий от ревьюера №1__\n",
    "\n",
    "Такой комментарий нужно исправить обязательно, он критически влияет на удачное выполнение проекта.\n",
    "</div>\n",
    "    \n",
    "---\n",
    "\n",
    "<div class=\"alert alert-block alert-warning\">📝\n",
    "    \n",
    "\n",
    "__Комментарий от ревьюера №1__\n",
    "\n",
    "\n",
    "Такой комментарий является рекомендацией или советом. Можешь использовать их на своё усмотрение.\n",
    "</div>\n",
    "\n",
    "---\n",
    "\n",
    "<div class=\"alert alert-block alert-success\">✔️\n",
    "    \n",
    "\n",
    "__Комментарий от ревьюера №1__\n",
    "\n",
    "Такой комментарий  говорит о том, что было сделано что-то качественное и правильное =)\n",
    "</div>\n",
    "    \n",
    "---\n",
    "    \n",
    "Предлагаю работать над проектом в диалоге: если ты что-то меняешь в проекте или отвечаешь на мои комментарии — пиши об этом. Мне будет легче отследить изменения, если ты выделишь свои комментарии:   \n",
    "    \n",
    "<div class=\"alert alert-info\"> <b>Комментарии студента:</b> Например, вот так.</div>\n",
    "    \n",
    "Всё это поможет выполнить повторную проверку твоего проекта оперативнее. Если будут какие-нибудь вопросы по моим комментариям, пиши, будем разбираться вместе :)    \n",
    "    \n",
    "---"
   ]
  },
  {
   "cell_type": "markdown",
   "id": "7c89bb6f",
   "metadata": {
    "deletable": false,
    "editable": false,
    "id": "c81daeeb"
   },
   "source": [
    "# Исследование надежности заемщиков\n"
   ]
  },
  {
   "cell_type": "markdown",
   "id": "54730aae",
   "metadata": {
    "deletable": false,
    "editable": false,
    "id": "827c20bf"
   },
   "source": [
    "Во второй части проекта вы выполните шаги 3 и 4. Их вручную проверит ревьюер.\n",
    "Чтобы вам не пришлось писать код заново для шагов 1 и 2, мы добавили авторские решения в ячейки с кодом. \n",
    "\n"
   ]
  },
  {
   "cell_type": "markdown",
   "id": "bf30f7e8",
   "metadata": {
    "deletable": false,
    "editable": false,
    "id": "744d7639"
   },
   "source": [
    "## Откройте таблицу и изучите общую информацию о данных"
   ]
  },
  {
   "cell_type": "markdown",
   "id": "7599f635",
   "metadata": {
    "deletable": false,
    "editable": false,
    "id": "e7a14c31"
   },
   "source": [
    "**Задание 1. Импортируйте библиотеку pandas. Считайте данные из csv-файла в датафрейм и сохраните в переменную `data`. Путь к файлу:**\n",
    "\n",
    "`/datasets/data.csv`"
   ]
  },
  {
   "cell_type": "code",
   "execution_count": 1,
   "id": "14195f38",
   "metadata": {
    "deletable": false,
    "id": "7bcf75c9"
   },
   "outputs": [],
   "source": [
    "import pandas as pd\n",
    "\n",
    "try:\n",
    "    data = pd.read_csv('/datasets/data.csv')\n",
    "except:\n",
    "    data = pd.read_csv('https://code.s3.yandex.net/datasets/data.csv')"
   ]
  },
  {
   "cell_type": "markdown",
   "id": "42df9f5f",
   "metadata": {
    "deletable": false,
    "editable": false,
    "id": "b8038fe3"
   },
   "source": [
    "**Задание 2. Выведите первые 20 строчек датафрейма `data` на экран.**"
   ]
  },
  {
   "cell_type": "code",
   "execution_count": 2,
   "id": "91b815fd",
   "metadata": {
    "deletable": false,
    "id": "2a7cab99",
    "outputId": "1a8f3ef2-d323-4ec2-ddf7-89670b5944c4"
   },
   "outputs": [
    {
     "data": {
      "text/html": [
       "<div>\n",
       "<style scoped>\n",
       "    .dataframe tbody tr th:only-of-type {\n",
       "        vertical-align: middle;\n",
       "    }\n",
       "\n",
       "    .dataframe tbody tr th {\n",
       "        vertical-align: top;\n",
       "    }\n",
       "\n",
       "    .dataframe thead th {\n",
       "        text-align: right;\n",
       "    }\n",
       "</style>\n",
       "<table border=\"1\" class=\"dataframe\">\n",
       "  <thead>\n",
       "    <tr style=\"text-align: right;\">\n",
       "      <th></th>\n",
       "      <th>children</th>\n",
       "      <th>days_employed</th>\n",
       "      <th>dob_years</th>\n",
       "      <th>education</th>\n",
       "      <th>education_id</th>\n",
       "      <th>family_status</th>\n",
       "      <th>family_status_id</th>\n",
       "      <th>gender</th>\n",
       "      <th>income_type</th>\n",
       "      <th>debt</th>\n",
       "      <th>total_income</th>\n",
       "      <th>purpose</th>\n",
       "    </tr>\n",
       "  </thead>\n",
       "  <tbody>\n",
       "    <tr>\n",
       "      <th>0</th>\n",
       "      <td>1</td>\n",
       "      <td>-8437.673028</td>\n",
       "      <td>42</td>\n",
       "      <td>высшее</td>\n",
       "      <td>0</td>\n",
       "      <td>женат / замужем</td>\n",
       "      <td>0</td>\n",
       "      <td>F</td>\n",
       "      <td>сотрудник</td>\n",
       "      <td>0</td>\n",
       "      <td>253875.639453</td>\n",
       "      <td>покупка жилья</td>\n",
       "    </tr>\n",
       "    <tr>\n",
       "      <th>1</th>\n",
       "      <td>1</td>\n",
       "      <td>-4024.803754</td>\n",
       "      <td>36</td>\n",
       "      <td>среднее</td>\n",
       "      <td>1</td>\n",
       "      <td>женат / замужем</td>\n",
       "      <td>0</td>\n",
       "      <td>F</td>\n",
       "      <td>сотрудник</td>\n",
       "      <td>0</td>\n",
       "      <td>112080.014102</td>\n",
       "      <td>приобретение автомобиля</td>\n",
       "    </tr>\n",
       "    <tr>\n",
       "      <th>2</th>\n",
       "      <td>0</td>\n",
       "      <td>-5623.422610</td>\n",
       "      <td>33</td>\n",
       "      <td>Среднее</td>\n",
       "      <td>1</td>\n",
       "      <td>женат / замужем</td>\n",
       "      <td>0</td>\n",
       "      <td>M</td>\n",
       "      <td>сотрудник</td>\n",
       "      <td>0</td>\n",
       "      <td>145885.952297</td>\n",
       "      <td>покупка жилья</td>\n",
       "    </tr>\n",
       "    <tr>\n",
       "      <th>3</th>\n",
       "      <td>3</td>\n",
       "      <td>-4124.747207</td>\n",
       "      <td>32</td>\n",
       "      <td>среднее</td>\n",
       "      <td>1</td>\n",
       "      <td>женат / замужем</td>\n",
       "      <td>0</td>\n",
       "      <td>M</td>\n",
       "      <td>сотрудник</td>\n",
       "      <td>0</td>\n",
       "      <td>267628.550329</td>\n",
       "      <td>дополнительное образование</td>\n",
       "    </tr>\n",
       "    <tr>\n",
       "      <th>4</th>\n",
       "      <td>0</td>\n",
       "      <td>340266.072047</td>\n",
       "      <td>53</td>\n",
       "      <td>среднее</td>\n",
       "      <td>1</td>\n",
       "      <td>гражданский брак</td>\n",
       "      <td>1</td>\n",
       "      <td>F</td>\n",
       "      <td>пенсионер</td>\n",
       "      <td>0</td>\n",
       "      <td>158616.077870</td>\n",
       "      <td>сыграть свадьбу</td>\n",
       "    </tr>\n",
       "    <tr>\n",
       "      <th>5</th>\n",
       "      <td>0</td>\n",
       "      <td>-926.185831</td>\n",
       "      <td>27</td>\n",
       "      <td>высшее</td>\n",
       "      <td>0</td>\n",
       "      <td>гражданский брак</td>\n",
       "      <td>1</td>\n",
       "      <td>M</td>\n",
       "      <td>компаньон</td>\n",
       "      <td>0</td>\n",
       "      <td>255763.565419</td>\n",
       "      <td>покупка жилья</td>\n",
       "    </tr>\n",
       "    <tr>\n",
       "      <th>6</th>\n",
       "      <td>0</td>\n",
       "      <td>-2879.202052</td>\n",
       "      <td>43</td>\n",
       "      <td>высшее</td>\n",
       "      <td>0</td>\n",
       "      <td>женат / замужем</td>\n",
       "      <td>0</td>\n",
       "      <td>F</td>\n",
       "      <td>компаньон</td>\n",
       "      <td>0</td>\n",
       "      <td>240525.971920</td>\n",
       "      <td>операции с жильем</td>\n",
       "    </tr>\n",
       "    <tr>\n",
       "      <th>7</th>\n",
       "      <td>0</td>\n",
       "      <td>-152.779569</td>\n",
       "      <td>50</td>\n",
       "      <td>СРЕДНЕЕ</td>\n",
       "      <td>1</td>\n",
       "      <td>женат / замужем</td>\n",
       "      <td>0</td>\n",
       "      <td>M</td>\n",
       "      <td>сотрудник</td>\n",
       "      <td>0</td>\n",
       "      <td>135823.934197</td>\n",
       "      <td>образование</td>\n",
       "    </tr>\n",
       "    <tr>\n",
       "      <th>8</th>\n",
       "      <td>2</td>\n",
       "      <td>-6929.865299</td>\n",
       "      <td>35</td>\n",
       "      <td>ВЫСШЕЕ</td>\n",
       "      <td>0</td>\n",
       "      <td>гражданский брак</td>\n",
       "      <td>1</td>\n",
       "      <td>F</td>\n",
       "      <td>сотрудник</td>\n",
       "      <td>0</td>\n",
       "      <td>95856.832424</td>\n",
       "      <td>на проведение свадьбы</td>\n",
       "    </tr>\n",
       "    <tr>\n",
       "      <th>9</th>\n",
       "      <td>0</td>\n",
       "      <td>-2188.756445</td>\n",
       "      <td>41</td>\n",
       "      <td>среднее</td>\n",
       "      <td>1</td>\n",
       "      <td>женат / замужем</td>\n",
       "      <td>0</td>\n",
       "      <td>M</td>\n",
       "      <td>сотрудник</td>\n",
       "      <td>0</td>\n",
       "      <td>144425.938277</td>\n",
       "      <td>покупка жилья для семьи</td>\n",
       "    </tr>\n",
       "    <tr>\n",
       "      <th>10</th>\n",
       "      <td>2</td>\n",
       "      <td>-4171.483647</td>\n",
       "      <td>36</td>\n",
       "      <td>высшее</td>\n",
       "      <td>0</td>\n",
       "      <td>женат / замужем</td>\n",
       "      <td>0</td>\n",
       "      <td>M</td>\n",
       "      <td>компаньон</td>\n",
       "      <td>0</td>\n",
       "      <td>113943.491460</td>\n",
       "      <td>покупка недвижимости</td>\n",
       "    </tr>\n",
       "    <tr>\n",
       "      <th>11</th>\n",
       "      <td>0</td>\n",
       "      <td>-792.701887</td>\n",
       "      <td>40</td>\n",
       "      <td>среднее</td>\n",
       "      <td>1</td>\n",
       "      <td>женат / замужем</td>\n",
       "      <td>0</td>\n",
       "      <td>F</td>\n",
       "      <td>сотрудник</td>\n",
       "      <td>0</td>\n",
       "      <td>77069.234271</td>\n",
       "      <td>покупка коммерческой недвижимости</td>\n",
       "    </tr>\n",
       "    <tr>\n",
       "      <th>12</th>\n",
       "      <td>0</td>\n",
       "      <td>NaN</td>\n",
       "      <td>65</td>\n",
       "      <td>среднее</td>\n",
       "      <td>1</td>\n",
       "      <td>гражданский брак</td>\n",
       "      <td>1</td>\n",
       "      <td>M</td>\n",
       "      <td>пенсионер</td>\n",
       "      <td>0</td>\n",
       "      <td>NaN</td>\n",
       "      <td>сыграть свадьбу</td>\n",
       "    </tr>\n",
       "    <tr>\n",
       "      <th>13</th>\n",
       "      <td>0</td>\n",
       "      <td>-1846.641941</td>\n",
       "      <td>54</td>\n",
       "      <td>неоконченное высшее</td>\n",
       "      <td>2</td>\n",
       "      <td>женат / замужем</td>\n",
       "      <td>0</td>\n",
       "      <td>F</td>\n",
       "      <td>сотрудник</td>\n",
       "      <td>0</td>\n",
       "      <td>130458.228857</td>\n",
       "      <td>приобретение автомобиля</td>\n",
       "    </tr>\n",
       "    <tr>\n",
       "      <th>14</th>\n",
       "      <td>0</td>\n",
       "      <td>-1844.956182</td>\n",
       "      <td>56</td>\n",
       "      <td>высшее</td>\n",
       "      <td>0</td>\n",
       "      <td>гражданский брак</td>\n",
       "      <td>1</td>\n",
       "      <td>F</td>\n",
       "      <td>компаньон</td>\n",
       "      <td>1</td>\n",
       "      <td>165127.911772</td>\n",
       "      <td>покупка жилой недвижимости</td>\n",
       "    </tr>\n",
       "    <tr>\n",
       "      <th>15</th>\n",
       "      <td>1</td>\n",
       "      <td>-972.364419</td>\n",
       "      <td>26</td>\n",
       "      <td>среднее</td>\n",
       "      <td>1</td>\n",
       "      <td>женат / замужем</td>\n",
       "      <td>0</td>\n",
       "      <td>F</td>\n",
       "      <td>сотрудник</td>\n",
       "      <td>0</td>\n",
       "      <td>116820.904450</td>\n",
       "      <td>строительство собственной недвижимости</td>\n",
       "    </tr>\n",
       "    <tr>\n",
       "      <th>16</th>\n",
       "      <td>0</td>\n",
       "      <td>-1719.934226</td>\n",
       "      <td>35</td>\n",
       "      <td>среднее</td>\n",
       "      <td>1</td>\n",
       "      <td>женат / замужем</td>\n",
       "      <td>0</td>\n",
       "      <td>F</td>\n",
       "      <td>сотрудник</td>\n",
       "      <td>0</td>\n",
       "      <td>289202.704229</td>\n",
       "      <td>недвижимость</td>\n",
       "    </tr>\n",
       "    <tr>\n",
       "      <th>17</th>\n",
       "      <td>0</td>\n",
       "      <td>-2369.999720</td>\n",
       "      <td>33</td>\n",
       "      <td>высшее</td>\n",
       "      <td>0</td>\n",
       "      <td>гражданский брак</td>\n",
       "      <td>1</td>\n",
       "      <td>M</td>\n",
       "      <td>сотрудник</td>\n",
       "      <td>0</td>\n",
       "      <td>90410.586745</td>\n",
       "      <td>строительство недвижимости</td>\n",
       "    </tr>\n",
       "    <tr>\n",
       "      <th>18</th>\n",
       "      <td>0</td>\n",
       "      <td>400281.136913</td>\n",
       "      <td>53</td>\n",
       "      <td>среднее</td>\n",
       "      <td>1</td>\n",
       "      <td>вдовец / вдова</td>\n",
       "      <td>2</td>\n",
       "      <td>F</td>\n",
       "      <td>пенсионер</td>\n",
       "      <td>0</td>\n",
       "      <td>56823.777243</td>\n",
       "      <td>на покупку подержанного автомобиля</td>\n",
       "    </tr>\n",
       "    <tr>\n",
       "      <th>19</th>\n",
       "      <td>0</td>\n",
       "      <td>-10038.818549</td>\n",
       "      <td>48</td>\n",
       "      <td>СРЕДНЕЕ</td>\n",
       "      <td>1</td>\n",
       "      <td>в разводе</td>\n",
       "      <td>3</td>\n",
       "      <td>F</td>\n",
       "      <td>сотрудник</td>\n",
       "      <td>0</td>\n",
       "      <td>242831.107982</td>\n",
       "      <td>на покупку своего автомобиля</td>\n",
       "    </tr>\n",
       "  </tbody>\n",
       "</table>\n",
       "</div>"
      ],
      "text/plain": [
       "    children  days_employed  dob_years            education  education_id  \\\n",
       "0          1   -8437.673028         42               высшее             0   \n",
       "1          1   -4024.803754         36              среднее             1   \n",
       "2          0   -5623.422610         33              Среднее             1   \n",
       "3          3   -4124.747207         32              среднее             1   \n",
       "4          0  340266.072047         53              среднее             1   \n",
       "5          0    -926.185831         27               высшее             0   \n",
       "6          0   -2879.202052         43               высшее             0   \n",
       "7          0    -152.779569         50              СРЕДНЕЕ             1   \n",
       "8          2   -6929.865299         35               ВЫСШЕЕ             0   \n",
       "9          0   -2188.756445         41              среднее             1   \n",
       "10         2   -4171.483647         36               высшее             0   \n",
       "11         0    -792.701887         40              среднее             1   \n",
       "12         0            NaN         65              среднее             1   \n",
       "13         0   -1846.641941         54  неоконченное высшее             2   \n",
       "14         0   -1844.956182         56               высшее             0   \n",
       "15         1    -972.364419         26              среднее             1   \n",
       "16         0   -1719.934226         35              среднее             1   \n",
       "17         0   -2369.999720         33               высшее             0   \n",
       "18         0  400281.136913         53              среднее             1   \n",
       "19         0  -10038.818549         48              СРЕДНЕЕ             1   \n",
       "\n",
       "       family_status  family_status_id gender income_type  debt  \\\n",
       "0    женат / замужем                 0      F   сотрудник     0   \n",
       "1    женат / замужем                 0      F   сотрудник     0   \n",
       "2    женат / замужем                 0      M   сотрудник     0   \n",
       "3    женат / замужем                 0      M   сотрудник     0   \n",
       "4   гражданский брак                 1      F   пенсионер     0   \n",
       "5   гражданский брак                 1      M   компаньон     0   \n",
       "6    женат / замужем                 0      F   компаньон     0   \n",
       "7    женат / замужем                 0      M   сотрудник     0   \n",
       "8   гражданский брак                 1      F   сотрудник     0   \n",
       "9    женат / замужем                 0      M   сотрудник     0   \n",
       "10   женат / замужем                 0      M   компаньон     0   \n",
       "11   женат / замужем                 0      F   сотрудник     0   \n",
       "12  гражданский брак                 1      M   пенсионер     0   \n",
       "13   женат / замужем                 0      F   сотрудник     0   \n",
       "14  гражданский брак                 1      F   компаньон     1   \n",
       "15   женат / замужем                 0      F   сотрудник     0   \n",
       "16   женат / замужем                 0      F   сотрудник     0   \n",
       "17  гражданский брак                 1      M   сотрудник     0   \n",
       "18    вдовец / вдова                 2      F   пенсионер     0   \n",
       "19         в разводе                 3      F   сотрудник     0   \n",
       "\n",
       "     total_income                                 purpose  \n",
       "0   253875.639453                           покупка жилья  \n",
       "1   112080.014102                 приобретение автомобиля  \n",
       "2   145885.952297                           покупка жилья  \n",
       "3   267628.550329              дополнительное образование  \n",
       "4   158616.077870                         сыграть свадьбу  \n",
       "5   255763.565419                           покупка жилья  \n",
       "6   240525.971920                       операции с жильем  \n",
       "7   135823.934197                             образование  \n",
       "8    95856.832424                   на проведение свадьбы  \n",
       "9   144425.938277                 покупка жилья для семьи  \n",
       "10  113943.491460                    покупка недвижимости  \n",
       "11   77069.234271       покупка коммерческой недвижимости  \n",
       "12            NaN                         сыграть свадьбу  \n",
       "13  130458.228857                 приобретение автомобиля  \n",
       "14  165127.911772              покупка жилой недвижимости  \n",
       "15  116820.904450  строительство собственной недвижимости  \n",
       "16  289202.704229                            недвижимость  \n",
       "17   90410.586745              строительство недвижимости  \n",
       "18   56823.777243      на покупку подержанного автомобиля  \n",
       "19  242831.107982            на покупку своего автомобиля  "
      ]
     },
     "execution_count": 2,
     "metadata": {},
     "output_type": "execute_result"
    }
   ],
   "source": [
    "data.head(20)"
   ]
  },
  {
   "cell_type": "markdown",
   "id": "a81783d5",
   "metadata": {
    "deletable": false,
    "editable": false,
    "id": "1c12e233"
   },
   "source": [
    "**Задание 3. Выведите основную информацию о датафрейме с помощью метода `info()`.**"
   ]
  },
  {
   "cell_type": "code",
   "execution_count": 3,
   "id": "efa2b166",
   "metadata": {
    "deletable": false,
    "id": "2b757bca",
    "outputId": "15376089-8dad-46c9-b520-c05248d43158"
   },
   "outputs": [
    {
     "name": "stdout",
     "output_type": "stream",
     "text": [
      "<class 'pandas.core.frame.DataFrame'>\n",
      "RangeIndex: 21525 entries, 0 to 21524\n",
      "Data columns (total 12 columns):\n",
      " #   Column            Non-Null Count  Dtype  \n",
      "---  ------            --------------  -----  \n",
      " 0   children          21525 non-null  int64  \n",
      " 1   days_employed     19351 non-null  float64\n",
      " 2   dob_years         21525 non-null  int64  \n",
      " 3   education         21525 non-null  object \n",
      " 4   education_id      21525 non-null  int64  \n",
      " 5   family_status     21525 non-null  object \n",
      " 6   family_status_id  21525 non-null  int64  \n",
      " 7   gender            21525 non-null  object \n",
      " 8   income_type       21525 non-null  object \n",
      " 9   debt              21525 non-null  int64  \n",
      " 10  total_income      19351 non-null  float64\n",
      " 11  purpose           21525 non-null  object \n",
      "dtypes: float64(2), int64(5), object(5)\n",
      "memory usage: 2.0+ MB\n"
     ]
    }
   ],
   "source": [
    "data.info()"
   ]
  },
  {
   "cell_type": "markdown",
   "id": "06bcc03a",
   "metadata": {
    "deletable": false,
    "editable": false,
    "id": "333ec665"
   },
   "source": [
    "## Предобработка данных"
   ]
  },
  {
   "cell_type": "markdown",
   "id": "15a86d2e",
   "metadata": {
    "deletable": false,
    "editable": false,
    "id": "02d92d53"
   },
   "source": [
    "### Удаление пропусков"
   ]
  },
  {
   "cell_type": "markdown",
   "id": "98bd27dc",
   "metadata": {
    "deletable": false,
    "editable": false,
    "id": "cd84967c"
   },
   "source": [
    "**Задание 4. Выведите количество пропущенных значений для каждого столбца. Используйте комбинацию двух методов.**"
   ]
  },
  {
   "cell_type": "code",
   "execution_count": 4,
   "id": "ac9a40ef",
   "metadata": {
    "deletable": false,
    "id": "7f9b2309",
    "outputId": "81f4d817-781c-465c-ed15-91ce4446810d"
   },
   "outputs": [
    {
     "data": {
      "text/plain": [
       "children               0\n",
       "days_employed       2174\n",
       "dob_years              0\n",
       "education              0\n",
       "education_id           0\n",
       "family_status          0\n",
       "family_status_id       0\n",
       "gender                 0\n",
       "income_type            0\n",
       "debt                   0\n",
       "total_income        2174\n",
       "purpose                0\n",
       "dtype: int64"
      ]
     },
     "execution_count": 4,
     "metadata": {},
     "output_type": "execute_result"
    }
   ],
   "source": [
    "data.isna().sum()"
   ]
  },
  {
   "cell_type": "markdown",
   "id": "ad374d03",
   "metadata": {
    "deletable": false,
    "editable": false,
    "id": "db86e27b"
   },
   "source": [
    "**Задание 5. В двух столбцах есть пропущенные значения. Один из них — `days_employed`. Пропуски в этом столбце вы обработаете на следующем этапе. Другой столбец с пропущенными значениями — `total_income` — хранит данные о доходах. На сумму дохода сильнее всего влияет тип занятости, поэтому заполнить пропуски в этом столбце нужно медианным значением по каждому типу из столбца `income_type`. Например, у человека с типом занятости `сотрудник` пропуск в столбце `total_income` должен быть заполнен медианным доходом среди всех записей с тем же типом.**"
   ]
  },
  {
   "cell_type": "code",
   "execution_count": 5,
   "id": "ff3b5f39",
   "metadata": {
    "deletable": false,
    "id": "42006a93"
   },
   "outputs": [],
   "source": [
    "for t in data['income_type'].unique():\n",
    "    data.loc[(data['income_type'] == t) & (data['total_income'].isna()), 'total_income'] = \\\n",
    "    data.loc[(data['income_type'] == t), 'total_income'].median()"
   ]
  },
  {
   "cell_type": "markdown",
   "id": "fc4d4fa5",
   "metadata": {
    "deletable": false,
    "editable": false,
    "id": "89da5ece"
   },
   "source": [
    "### Обработка аномальных значений"
   ]
  },
  {
   "cell_type": "markdown",
   "id": "3fbb4b95",
   "metadata": {
    "deletable": false,
    "editable": false,
    "id": "57964554"
   },
   "source": [
    "**Задание 6. В данных могут встречаться артефакты (аномалии) — значения, которые не отражают действительность и появились по какой-то ошибке. таким артефактом будет отрицательное количество дней трудового стажа в столбце `days_employed`. Для реальных данных это нормально. Обработайте значения в этом столбце: замените все отрицательные значения положительными с помощью метода `abs()`.**"
   ]
  },
  {
   "cell_type": "code",
   "execution_count": 6,
   "id": "608a403e",
   "metadata": {
    "deletable": false,
    "id": "f6f055bf"
   },
   "outputs": [],
   "source": [
    "data['days_employed'] = data['days_employed'].abs()"
   ]
  },
  {
   "cell_type": "markdown",
   "id": "9f54faea",
   "metadata": {
    "deletable": false,
    "editable": false,
    "id": "6107dd2f"
   },
   "source": [
    "**Задание 7. Для каждого типа занятости выведите медианное значение трудового стажа `days_employed` в днях.**"
   ]
  },
  {
   "cell_type": "code",
   "execution_count": 7,
   "id": "bd23c608",
   "metadata": {
    "deletable": false,
    "id": "85a5faf6",
    "outputId": "801ef80e-522b-4668-f34e-565af7432bcf"
   },
   "outputs": [
    {
     "data": {
      "text/plain": [
       "income_type\n",
       "безработный        366413.652744\n",
       "в декрете            3296.759962\n",
       "госслужащий          2689.368353\n",
       "компаньон            1547.382223\n",
       "пенсионер          365213.306266\n",
       "предприниматель       520.848083\n",
       "сотрудник            1574.202821\n",
       "студент               578.751554\n",
       "Name: days_employed, dtype: float64"
      ]
     },
     "execution_count": 7,
     "metadata": {},
     "output_type": "execute_result"
    }
   ],
   "source": [
    "data.groupby('income_type')['days_employed'].agg('median')"
   ]
  },
  {
   "cell_type": "markdown",
   "id": "158ea128",
   "metadata": {
    "deletable": false,
    "editable": false,
    "id": "38d1a030"
   },
   "source": [
    "У двух типов (безработные и пенсионеры) получатся аномально большие значения. Исправить такие значения сложно, поэтому оставьте их как есть. Тем более этот столбец не понадобится вам для исследования."
   ]
  },
  {
   "cell_type": "markdown",
   "id": "8c026105",
   "metadata": {
    "deletable": false,
    "editable": false,
    "id": "d8a9f147"
   },
   "source": [
    "**Задание 8. Выведите перечень уникальных значений столбца `children`.**"
   ]
  },
  {
   "cell_type": "code",
   "execution_count": 8,
   "id": "ad578816",
   "metadata": {
    "deletable": false,
    "id": "ef5056eb",
    "outputId": "6975b15c-7f95-4697-d16d-a0c79b657b03"
   },
   "outputs": [
    {
     "data": {
      "text/plain": [
       "array([ 1,  0,  3,  2, -1,  4, 20,  5])"
      ]
     },
     "execution_count": 8,
     "metadata": {},
     "output_type": "execute_result"
    }
   ],
   "source": [
    "data['children'].unique()"
   ]
  },
  {
   "cell_type": "markdown",
   "id": "084018e5",
   "metadata": {
    "deletable": false,
    "editable": false,
    "id": "40b9ebf2"
   },
   "source": [
    "**Задание 9. В столбце `children` есть два аномальных значения. Удалите строки, в которых встречаются такие аномальные значения из датафрейма `data`.**"
   ]
  },
  {
   "cell_type": "code",
   "execution_count": 9,
   "id": "f1c3350f",
   "metadata": {
    "deletable": false,
    "id": "3ff9801d"
   },
   "outputs": [],
   "source": [
    "data = data[(data['children'] != -1) & (data['children'] != 20)]"
   ]
  },
  {
   "cell_type": "markdown",
   "id": "aae6d721",
   "metadata": {
    "deletable": false,
    "editable": false,
    "id": "bbc4d0ce"
   },
   "source": [
    "**Задание 10. Ещё раз выведите перечень уникальных значений столбца `children`, чтобы убедиться, что артефакты удалены.**"
   ]
  },
  {
   "cell_type": "code",
   "execution_count": 10,
   "id": "eca7d00b",
   "metadata": {
    "deletable": false,
    "id": "ad4fa8b7",
    "outputId": "b2097101-d49d-44d9-901b-32a65c9463d1"
   },
   "outputs": [
    {
     "data": {
      "text/plain": [
       "array([1, 0, 3, 2, 4, 5])"
      ]
     },
     "execution_count": 10,
     "metadata": {},
     "output_type": "execute_result"
    }
   ],
   "source": [
    "data['children'].unique()"
   ]
  },
  {
   "cell_type": "markdown",
   "id": "4954a57c",
   "metadata": {
    "deletable": false,
    "editable": false,
    "id": "75440b63"
   },
   "source": [
    "### Удаление пропусков (продолжение)"
   ]
  },
  {
   "cell_type": "markdown",
   "id": "2672f340",
   "metadata": {
    "deletable": false,
    "editable": false,
    "id": "f4ea573f"
   },
   "source": [
    "**Задание 11. Заполните пропуски в столбце `days_employed` медианными значениями по каждого типа занятости `income_type`.**"
   ]
  },
  {
   "cell_type": "code",
   "execution_count": 11,
   "id": "7ef4bf6b",
   "metadata": {
    "deletable": false,
    "id": "af6b1a7e"
   },
   "outputs": [],
   "source": [
    "for t in data['income_type'].unique():\n",
    "    data.loc[(data['income_type'] == t) & (data['days_employed'].isna()), 'days_employed'] = \\\n",
    "    data.loc[(data['income_type'] == t), 'days_employed'].median()"
   ]
  },
  {
   "cell_type": "markdown",
   "id": "9928856d",
   "metadata": {
    "deletable": false,
    "editable": false,
    "id": "2753f40d"
   },
   "source": [
    "**Задание 12. Убедитесь, что все пропуски заполнены. Проверьте себя и ещё раз выведите количество пропущенных значений для каждого столбца с помощью двух методов.**"
   ]
  },
  {
   "cell_type": "code",
   "execution_count": 12,
   "id": "57a385e6",
   "metadata": {
    "deletable": false,
    "id": "55f78bc2",
    "outputId": "8da1e4e1-358e-4e87-98c9-f261bce0a7b2"
   },
   "outputs": [
    {
     "data": {
      "text/plain": [
       "children            0\n",
       "days_employed       0\n",
       "dob_years           0\n",
       "education           0\n",
       "education_id        0\n",
       "family_status       0\n",
       "family_status_id    0\n",
       "gender              0\n",
       "income_type         0\n",
       "debt                0\n",
       "total_income        0\n",
       "purpose             0\n",
       "dtype: int64"
      ]
     },
     "execution_count": 12,
     "metadata": {},
     "output_type": "execute_result"
    }
   ],
   "source": [
    "data.isna().sum()"
   ]
  },
  {
   "cell_type": "markdown",
   "id": "5ce09e05",
   "metadata": {
    "deletable": false,
    "editable": false,
    "id": "ddc81e43"
   },
   "source": [
    "### Изменение типов данных"
   ]
  },
  {
   "cell_type": "markdown",
   "id": "3b9e4c87",
   "metadata": {
    "deletable": false,
    "editable": false,
    "id": "42d19d24"
   },
   "source": [
    "**Задание 13. Замените вещественный тип данных в столбце `total_income` на целочисленный с помощью метода `astype()`.**"
   ]
  },
  {
   "cell_type": "code",
   "execution_count": 13,
   "id": "3ff324eb",
   "metadata": {
    "deletable": false,
    "id": "920b65ad"
   },
   "outputs": [],
   "source": [
    "data['total_income'] = data['total_income'].astype(int)"
   ]
  },
  {
   "cell_type": "markdown",
   "id": "00decc23",
   "metadata": {
    "deletable": false,
    "editable": false,
    "id": "80c420ba"
   },
   "source": [
    "### Обработка дубликатов"
   ]
  },
  {
   "cell_type": "markdown",
   "id": "7745c60c",
   "metadata": {
    "deletable": false,
    "editable": false
   },
   "source": [
    "**Задание 14. Обработайте неявные дубликаты в столбце `education`. В этом столбце есть одни и те же значения, но записанные по-разному: с использованием заглавных и строчных букв. Приведите их к нижнему регистру. Проверьте остальные столбцы.**"
   ]
  },
  {
   "cell_type": "code",
   "execution_count": 14,
   "id": "c4f1b1d5",
   "metadata": {
    "deletable": false
   },
   "outputs": [],
   "source": [
    "data['education'] = data['education'].str.lower()"
   ]
  },
  {
   "cell_type": "markdown",
   "id": "6137667b",
   "metadata": {
    "deletable": false,
    "editable": false,
    "id": "dc587695"
   },
   "source": [
    "**Задание 15. Выведите на экран количество строк-дубликатов в данных. Если такие строки присутствуют, удалите их.**"
   ]
  },
  {
   "cell_type": "code",
   "execution_count": 15,
   "id": "c28d8bd6",
   "metadata": {
    "deletable": false,
    "id": "3ee445e4",
    "outputId": "9684deba-1934-42d1-99e1-cda61740f822"
   },
   "outputs": [
    {
     "data": {
      "text/plain": [
       "71"
      ]
     },
     "execution_count": 15,
     "metadata": {},
     "output_type": "execute_result"
    }
   ],
   "source": [
    "data.duplicated().sum()"
   ]
  },
  {
   "cell_type": "code",
   "execution_count": 16,
   "id": "22989fa3",
   "metadata": {
    "deletable": false,
    "id": "8575fe05"
   },
   "outputs": [],
   "source": [
    "data = data.drop_duplicates()"
   ]
  },
  {
   "cell_type": "markdown",
   "id": "345301db",
   "metadata": {
    "deletable": false,
    "editable": false,
    "id": "9904cf55"
   },
   "source": [
    "### Категоризация данных"
   ]
  },
  {
   "cell_type": "markdown",
   "id": "b8442ddd",
   "metadata": {
    "deletable": false,
    "editable": false,
    "id": "72fcc8a2"
   },
   "source": [
    "**Задание 16. На основании диапазонов, указанных ниже, создайте в датафрейме `data` столбец `total_income_category` с категориями:**\n",
    "\n",
    "- 0–30000 — `'E'`;\n",
    "- 30001–50000 — `'D'`;\n",
    "- 50001–200000 — `'C'`;\n",
    "- 200001–1000000 — `'B'`;\n",
    "- 1000001 и выше — `'A'`.\n",
    "\n",
    "\n",
    "**Например, кредитополучателю с доходом 25000 нужно назначить категорию `'E'`, а клиенту, получающему 235000, — `'B'`. Используйте собственную функцию с именем `categorize_income()` и метод `apply()`.**"
   ]
  },
  {
   "cell_type": "code",
   "execution_count": 17,
   "id": "2af88f92",
   "metadata": {
    "deletable": false,
    "id": "e1771346"
   },
   "outputs": [],
   "source": [
    "def categorize_income(income):\n",
    "    try:\n",
    "        if 0 <= income <= 30000:\n",
    "            return 'E'\n",
    "        elif 30001 <= income <= 50000:\n",
    "            return 'D'\n",
    "        elif 50001 <= income <= 200000:\n",
    "            return 'C'\n",
    "        elif 200001 <= income <= 1000000:\n",
    "            return 'B'\n",
    "        elif income >= 1000001:\n",
    "            return 'A'\n",
    "    except:\n",
    "        pass"
   ]
  },
  {
   "cell_type": "code",
   "execution_count": 18,
   "id": "07f86c2f",
   "metadata": {
    "deletable": false,
    "id": "d5f3586d"
   },
   "outputs": [],
   "source": [
    "data['total_income_category'] = data['total_income'].apply(categorize_income)"
   ]
  },
  {
   "cell_type": "markdown",
   "id": "292594ac",
   "metadata": {
    "deletable": false,
    "editable": false,
    "id": "dde49b5c"
   },
   "source": [
    "**Задание 17. Выведите на экран перечень уникальных целей взятия кредита из столбца `purpose`.**"
   ]
  },
  {
   "cell_type": "code",
   "execution_count": 19,
   "id": "b527cf30",
   "metadata": {
    "deletable": false,
    "id": "f67ce9b3",
    "outputId": "673c12d9-7d7e-4ae0-9812-c622c89dd244"
   },
   "outputs": [
    {
     "data": {
      "text/plain": [
       "array(['покупка жилья', 'приобретение автомобиля',\n",
       "       'дополнительное образование', 'сыграть свадьбу',\n",
       "       'операции с жильем', 'образование', 'на проведение свадьбы',\n",
       "       'покупка жилья для семьи', 'покупка недвижимости',\n",
       "       'покупка коммерческой недвижимости', 'покупка жилой недвижимости',\n",
       "       'строительство собственной недвижимости', 'недвижимость',\n",
       "       'строительство недвижимости', 'на покупку подержанного автомобиля',\n",
       "       'на покупку своего автомобиля',\n",
       "       'операции с коммерческой недвижимостью',\n",
       "       'строительство жилой недвижимости', 'жилье',\n",
       "       'операции со своей недвижимостью', 'автомобили',\n",
       "       'заняться образованием', 'сделка с подержанным автомобилем',\n",
       "       'получение образования', 'автомобиль', 'свадьба',\n",
       "       'получение дополнительного образования', 'покупка своего жилья',\n",
       "       'операции с недвижимостью', 'получение высшего образования',\n",
       "       'свой автомобиль', 'сделка с автомобилем',\n",
       "       'профильное образование', 'высшее образование',\n",
       "       'покупка жилья для сдачи', 'на покупку автомобиля', 'ремонт жилью',\n",
       "       'заняться высшим образованием'], dtype=object)"
      ]
     },
     "execution_count": 19,
     "metadata": {},
     "output_type": "execute_result"
    }
   ],
   "source": [
    "data['purpose'].unique()"
   ]
  },
  {
   "cell_type": "markdown",
   "id": "473e7efe",
   "metadata": {
    "deletable": false,
    "editable": false,
    "id": "85d0aef0"
   },
   "source": [
    "**Задание 18. Создайте функцию, которая на основании данных из столбца `purpose` сформирует новый столбец `purpose_category`, в который войдут следующие категории:**\n",
    "\n",
    "- `'операции с автомобилем'`,\n",
    "- `'операции с недвижимостью'`,\n",
    "- `'проведение свадьбы'`,\n",
    "- `'получение образования'`.\n",
    "\n",
    "**Например, если в столбце `purpose` находится подстрока `'на покупку автомобиля'`, то в столбце `purpose_category` должна появиться строка `'операции с автомобилем'`.**\n",
    "\n",
    "**Используйте собственную функцию с именем `categorize_purpose()` и метод `apply()`. Изучите данные в столбце `purpose` и определите, какие подстроки помогут вам правильно определить категорию.**"
   ]
  },
  {
   "cell_type": "code",
   "execution_count": 20,
   "id": "48cd6c7d",
   "metadata": {
    "deletable": false,
    "id": "e149fab4"
   },
   "outputs": [],
   "source": [
    "def categorize_purpose(row):\n",
    "    try:\n",
    "        if 'автом' in row:\n",
    "            return 'операции с автомобилем'\n",
    "        elif 'жил' in row or 'недвиж' in row:\n",
    "            return 'операции с недвижимостью'\n",
    "        elif 'свад' in row:\n",
    "            return 'проведение свадьбы'\n",
    "        elif 'образов' in row:\n",
    "            return 'получение образования'\n",
    "    except:\n",
    "        return 'нет категории'"
   ]
  },
  {
   "cell_type": "code",
   "execution_count": 21,
   "id": "deaa360b",
   "metadata": {
    "deletable": false,
    "id": "bf36e69b"
   },
   "outputs": [],
   "source": [
    "data['purpose_category'] = data['purpose'].apply(categorize_purpose)\n",
    "\n"
   ]
  },
  {
   "cell_type": "markdown",
   "id": "fc0b1c6b",
   "metadata": {
    "deletable": false,
    "editable": false,
    "id": "09b242bf"
   },
   "source": [
    "### Шаг 3. Исследуйте данные и ответьте на вопросы"
   ]
  },
  {
   "cell_type": "markdown",
   "id": "5b1f61a5",
   "metadata": {
    "deletable": false,
    "editable": false,
    "id": "c5d66278"
   },
   "source": [
    "#### 3.1 Есть ли зависимость между количеством детей и возвратом кредита в срок?"
   ]
  },
  {
   "cell_type": "code",
   "execution_count": 22,
   "id": "9f0b5de0",
   "metadata": {
    "deletable": false,
    "id": "2cacfc4a"
   },
   "outputs": [
    {
     "data": {
      "text/html": [
       "<style  type=\"text/css\" >\n",
       "</style><table id=\"T_4c85c_\" ><thead>    <tr>        <th class=\"blank level0\" ></th>        <th class=\"col_heading level0 col0\" >Кол-во заемщиков</th>        <th class=\"col_heading level0 col1\" >% невозврата</th>    </tr>    <tr>        <th class=\"index_name level0\" >children</th>        <th class=\"blank\" ></th>        <th class=\"blank\" ></th>    </tr></thead><tbody>\n",
       "                <tr>\n",
       "                        <th id=\"T_4c85c_level0_row0\" class=\"row_heading level0 row0\" >4</th>\n",
       "                        <td id=\"T_4c85c_row0_col0\" class=\"data row0 col0\" >41</td>\n",
       "                        <td id=\"T_4c85c_row0_col1\" class=\"data row0 col1\" >9.76%</td>\n",
       "            </tr>\n",
       "            <tr>\n",
       "                        <th id=\"T_4c85c_level0_row1\" class=\"row_heading level0 row1\" >2</th>\n",
       "                        <td id=\"T_4c85c_row1_col0\" class=\"data row1 col0\" >2052</td>\n",
       "                        <td id=\"T_4c85c_row1_col1\" class=\"data row1 col1\" >9.45%</td>\n",
       "            </tr>\n",
       "            <tr>\n",
       "                        <th id=\"T_4c85c_level0_row2\" class=\"row_heading level0 row2\" >1</th>\n",
       "                        <td id=\"T_4c85c_row2_col0\" class=\"data row2 col0\" >4808</td>\n",
       "                        <td id=\"T_4c85c_row2_col1\" class=\"data row2 col1\" >9.23%</td>\n",
       "            </tr>\n",
       "            <tr>\n",
       "                        <th id=\"T_4c85c_level0_row3\" class=\"row_heading level0 row3\" >3</th>\n",
       "                        <td id=\"T_4c85c_row3_col0\" class=\"data row3 col0\" >330</td>\n",
       "                        <td id=\"T_4c85c_row3_col1\" class=\"data row3 col1\" >8.18%</td>\n",
       "            </tr>\n",
       "            <tr>\n",
       "                        <th id=\"T_4c85c_level0_row4\" class=\"row_heading level0 row4\" >0</th>\n",
       "                        <td id=\"T_4c85c_row4_col0\" class=\"data row4 col0\" >14091</td>\n",
       "                        <td id=\"T_4c85c_row4_col1\" class=\"data row4 col1\" >7.54%</td>\n",
       "            </tr>\n",
       "            <tr>\n",
       "                        <th id=\"T_4c85c_level0_row5\" class=\"row_heading level0 row5\" >5</th>\n",
       "                        <td id=\"T_4c85c_row5_col0\" class=\"data row5 col0\" >9</td>\n",
       "                        <td id=\"T_4c85c_row5_col1\" class=\"data row5 col1\" >0.00%</td>\n",
       "            </tr>\n",
       "    </tbody></table>"
      ],
      "text/plain": [
       "<pandas.io.formats.style.Styler at 0x7ff788e02b50>"
      ]
     },
     "execution_count": 22,
     "metadata": {},
     "output_type": "execute_result"
    }
   ],
   "source": [
    "linkage_children_dept = data.groupby('children').agg({'debt' : ['count', 'mean']}) # Ваш код будет здесь\n",
    "linkage_children_dept.columns = ['Кол-во заемщиков', '% невозврата']\n",
    "linkage_children_dept = linkage_children_dept.sort_values(by = '% невозврата', ascending = False)\n",
    "linkage_children_dept.style.format({'% невозврата':'{:.2%}'})\n",
    "\n"
   ]
  },
  {
   "cell_type": "markdown",
   "id": "b0aa83d4",
   "metadata": {
    "deletable": false,
    "id": "3a6b99ec"
   },
   "source": [
    "**Вывод:** \n",
    ">Зависимость видна если рассматривать группы от 0 до 2 детей, чем меньше детей тем выше вероятность возврата долга. В остальных категориях исходя из предоставленного нам массива данных довольно низкое значение колличества заемщиков и результаты кажутся аномальными."
   ]
  },
  {
   "cell_type": "markdown",
   "id": "7071acff",
   "metadata": {},
   "source": [
    "<div class=\"alert alert-block alert-success\">✔️\n",
    "    \n",
    "\n",
    "__Комментарий от ревьюера №1__\n",
    "\n",
    "Здорово, что посчитал колличество заемщиков в каждой выборке, и учел неравнозначность выборок. \n",
    "    \n",
    "---\n",
    "    \n",
    "Смотри  как эту таблицу можно вывести передав список агрегирующих функций:\n",
    "    \n",
    "```python\n",
    "data.pivot_table(index = 'children', values = 'debt', aggfunc = ['count', 'sum', 'mean'])\\\n",
    "    .sort_values(by = ('mean', 'debt'), ascending = False)\\\n",
    "    .style.format({('mean', 'debt') : '{:.2%}'})\n",
    "```\n",
    "</div>"
   ]
  },
  {
   "cell_type": "markdown",
   "id": "c9e398da",
   "metadata": {
    "deletable": false,
    "editable": false,
    "id": "97be82ca"
   },
   "source": [
    "#### 3.2 Есть ли зависимость между семейным положением и возвратом кредита в срок?"
   ]
  },
  {
   "cell_type": "code",
   "execution_count": 23,
   "id": "73843f2c",
   "metadata": {
    "deletable": false,
    "id": "dc3f7ee8"
   },
   "outputs": [
    {
     "data": {
      "text/html": [
       "<style  type=\"text/css\" >\n",
       "</style><table id=\"T_2e609_\" ><thead>    <tr>        <th class=\"blank level0\" ></th>        <th class=\"col_heading level0 col0\" >Кол-во заемщиков</th>        <th class=\"col_heading level0 col1\" >% невозврата</th>    </tr>    <tr>        <th class=\"index_name level0\" >family_status</th>        <th class=\"blank\" ></th>        <th class=\"blank\" ></th>    </tr></thead><tbody>\n",
       "                <tr>\n",
       "                        <th id=\"T_2e609_level0_row0\" class=\"row_heading level0 row0\" >Не женат / не замужем</th>\n",
       "                        <td id=\"T_2e609_row0_col0\" class=\"data row0 col0\" >2796</td>\n",
       "                        <td id=\"T_2e609_row0_col1\" class=\"data row0 col1\" >9.76%</td>\n",
       "            </tr>\n",
       "            <tr>\n",
       "                        <th id=\"T_2e609_level0_row1\" class=\"row_heading level0 row1\" >гражданский брак</th>\n",
       "                        <td id=\"T_2e609_row1_col0\" class=\"data row1 col0\" >4134</td>\n",
       "                        <td id=\"T_2e609_row1_col1\" class=\"data row1 col1\" >9.31%</td>\n",
       "            </tr>\n",
       "            <tr>\n",
       "                        <th id=\"T_2e609_level0_row2\" class=\"row_heading level0 row2\" >женат / замужем</th>\n",
       "                        <td id=\"T_2e609_row2_col0\" class=\"data row2 col0\" >12261</td>\n",
       "                        <td id=\"T_2e609_row2_col1\" class=\"data row2 col1\" >7.56%</td>\n",
       "            </tr>\n",
       "            <tr>\n",
       "                        <th id=\"T_2e609_level0_row3\" class=\"row_heading level0 row3\" >в разводе</th>\n",
       "                        <td id=\"T_2e609_row3_col0\" class=\"data row3 col0\" >1189</td>\n",
       "                        <td id=\"T_2e609_row3_col1\" class=\"data row3 col1\" >7.06%</td>\n",
       "            </tr>\n",
       "            <tr>\n",
       "                        <th id=\"T_2e609_level0_row4\" class=\"row_heading level0 row4\" >вдовец / вдова</th>\n",
       "                        <td id=\"T_2e609_row4_col0\" class=\"data row4 col0\" >951</td>\n",
       "                        <td id=\"T_2e609_row4_col1\" class=\"data row4 col1\" >6.62%</td>\n",
       "            </tr>\n",
       "    </tbody></table>"
      ],
      "text/plain": [
       "<pandas.io.formats.style.Styler at 0x7ff71e1f2c70>"
      ]
     },
     "execution_count": 23,
     "metadata": {},
     "output_type": "execute_result"
    }
   ],
   "source": [
    "linkage_family_status_debt = data.groupby('family_status').agg({'debt' : ['count', 'mean']}) # Ваш код будет здесь\n",
    "linkage_family_status_debt.columns = ['Кол-во заемщиков', '% невозврата']\n",
    "linkage_family_status_debt = linkage_family_status_debt.sort_values(by = '% невозврата', ascending = False)\n",
    "linkage_family_status_debt.style.format({'% невозврата':'{:.2%}'})\n"
   ]
  },
  {
   "cell_type": "markdown",
   "id": "3b390f87",
   "metadata": {
    "deletable": false,
    "id": "1cef7837"
   },
   "source": [
    "**Вывод:** \n",
    ">Из этих данных мы видим группы \"Не женат / не замужем\" и \"гражданский брак\" являтся менее ответственными в выплате займов, в отличие от других групп.\t"
   ]
  },
  {
   "cell_type": "markdown",
   "id": "72f27bba",
   "metadata": {},
   "source": [
    "<div class=\"alert alert-block alert-success\">✔️\n",
    "    \n",
    "\n",
    "__Комментарий от ревьюера №1__\n",
    "\n",
    "Верно. по расчетам можно сказать, что заемщики которые состоят или состояли в браке лучше оплачивают кредиты.\n",
    "</div>"
   ]
  },
  {
   "cell_type": "markdown",
   "id": "f5d24b21",
   "metadata": {
    "deletable": false,
    "editable": false,
    "id": "1e8b2fca"
   },
   "source": [
    "#### 3.3 Есть ли зависимость между уровнем дохода и возвратом кредита в срок?"
   ]
  },
  {
   "cell_type": "code",
   "execution_count": 24,
   "id": "fa61422a",
   "metadata": {
    "deletable": false,
    "id": "cd7e3720"
   },
   "outputs": [
    {
     "data": {
      "text/html": [
       "<style  type=\"text/css\" >\n",
       "</style><table id=\"T_66491_\" ><thead>    <tr>        <th class=\"blank level0\" ></th>        <th class=\"col_heading level0 col0\" >Кол-во заемщиков</th>        <th class=\"col_heading level0 col1\" >% невозврата</th>    </tr>    <tr>        <th class=\"index_name level0\" >total_income_category</th>        <th class=\"blank\" ></th>        <th class=\"blank\" ></th>    </tr></thead><tbody>\n",
       "                <tr>\n",
       "                        <th id=\"T_66491_level0_row0\" class=\"row_heading level0 row0\" >E</th>\n",
       "                        <td id=\"T_66491_row0_col0\" class=\"data row0 col0\" >22</td>\n",
       "                        <td id=\"T_66491_row0_col1\" class=\"data row0 col1\" >9.09%</td>\n",
       "            </tr>\n",
       "            <tr>\n",
       "                        <th id=\"T_66491_level0_row1\" class=\"row_heading level0 row1\" >C</th>\n",
       "                        <td id=\"T_66491_row1_col0\" class=\"data row1 col0\" >15921</td>\n",
       "                        <td id=\"T_66491_row1_col1\" class=\"data row1 col1\" >8.50%</td>\n",
       "            </tr>\n",
       "            <tr>\n",
       "                        <th id=\"T_66491_level0_row2\" class=\"row_heading level0 row2\" >A</th>\n",
       "                        <td id=\"T_66491_row2_col0\" class=\"data row2 col0\" >25</td>\n",
       "                        <td id=\"T_66491_row2_col1\" class=\"data row2 col1\" >8.00%</td>\n",
       "            </tr>\n",
       "            <tr>\n",
       "                        <th id=\"T_66491_level0_row3\" class=\"row_heading level0 row3\" >B</th>\n",
       "                        <td id=\"T_66491_row3_col0\" class=\"data row3 col0\" >5014</td>\n",
       "                        <td id=\"T_66491_row3_col1\" class=\"data row3 col1\" >7.06%</td>\n",
       "            </tr>\n",
       "            <tr>\n",
       "                        <th id=\"T_66491_level0_row4\" class=\"row_heading level0 row4\" >D</th>\n",
       "                        <td id=\"T_66491_row4_col0\" class=\"data row4 col0\" >349</td>\n",
       "                        <td id=\"T_66491_row4_col1\" class=\"data row4 col1\" >6.02%</td>\n",
       "            </tr>\n",
       "    </tbody></table>"
      ],
      "text/plain": [
       "<pandas.io.formats.style.Styler at 0x7ff788d5c760>"
      ]
     },
     "execution_count": 24,
     "metadata": {},
     "output_type": "execute_result"
    }
   ],
   "source": [
    "linkage_income_category_debt = data.groupby('total_income_category').agg({'debt' : ['count', 'mean']}) # Ваш код будет здесь\n",
    "linkage_income_category_debt.columns = ['Кол-во заемщиков', '% невозврата']\n",
    "linkage_income_category_debt = linkage_income_category_debt.sort_values(by = '% невозврата', ascending = False)\n",
    "linkage_income_category_debt.style.format({'% невозврата':'{:.2%}'})\n"
   ]
  },
  {
   "cell_type": "markdown",
   "id": "8bd6bab9",
   "metadata": {
    "deletable": false,
    "id": "e8593def"
   },
   "source": [
    "**Вывод:** \n",
    ">Сложно сказать о наличие какой либо зависимости, можно обратить внимание что основные заемщики люди с уровнем доходов из группы \"С\" и процент невозвращения ими займов равен 8,5."
   ]
  },
  {
   "cell_type": "markdown",
   "id": "8ce36d55",
   "metadata": {},
   "source": [
    "<div class=\"alert alert-block alert-success\">✔️\n",
    "    \n",
    "\n",
    "__Комментарий от ревьюера №1__\n",
    "\n",
    "Всё верно, тут лучше сравнить две самые многочисленные категории\n",
    "</div>"
   ]
  },
  {
   "cell_type": "markdown",
   "id": "4d8c7d63",
   "metadata": {
    "deletable": false,
    "editable": false,
    "id": "99ecbd1f"
   },
   "source": [
    "#### 3.4 Как разные цели кредита влияют на его возврат в срок?"
   ]
  },
  {
   "cell_type": "code",
   "execution_count": 25,
   "id": "e031ffe9",
   "metadata": {
    "deletable": false,
    "id": "2b687290",
    "scrolled": true
   },
   "outputs": [
    {
     "data": {
      "text/html": [
       "<style  type=\"text/css\" >\n",
       "</style><table id=\"T_cd13f_\" ><thead>    <tr>        <th class=\"blank level0\" ></th>        <th class=\"col_heading level0 col0\" >Кол-во заемщиков</th>        <th class=\"col_heading level0 col1\" >% невозврата</th>    </tr>    <tr>        <th class=\"index_name level0\" >purpose_category</th>        <th class=\"blank\" ></th>        <th class=\"blank\" ></th>    </tr></thead><tbody>\n",
       "                <tr>\n",
       "                        <th id=\"T_cd13f_level0_row0\" class=\"row_heading level0 row0\" >операции с автомобилем</th>\n",
       "                        <td id=\"T_cd13f_row0_col0\" class=\"data row0 col0\" >4279</td>\n",
       "                        <td id=\"T_cd13f_row0_col1\" class=\"data row0 col1\" >9.35%</td>\n",
       "            </tr>\n",
       "            <tr>\n",
       "                        <th id=\"T_cd13f_level0_row1\" class=\"row_heading level0 row1\" >получение образования</th>\n",
       "                        <td id=\"T_cd13f_row1_col0\" class=\"data row1 col0\" >3988</td>\n",
       "                        <td id=\"T_cd13f_row1_col1\" class=\"data row1 col1\" >9.25%</td>\n",
       "            </tr>\n",
       "            <tr>\n",
       "                        <th id=\"T_cd13f_level0_row2\" class=\"row_heading level0 row2\" >проведение свадьбы</th>\n",
       "                        <td id=\"T_cd13f_row2_col0\" class=\"data row2 col0\" >2313</td>\n",
       "                        <td id=\"T_cd13f_row2_col1\" class=\"data row2 col1\" >7.91%</td>\n",
       "            </tr>\n",
       "            <tr>\n",
       "                        <th id=\"T_cd13f_level0_row3\" class=\"row_heading level0 row3\" >операции с недвижимостью</th>\n",
       "                        <td id=\"T_cd13f_row3_col0\" class=\"data row3 col0\" >10751</td>\n",
       "                        <td id=\"T_cd13f_row3_col1\" class=\"data row3 col1\" >7.26%</td>\n",
       "            </tr>\n",
       "    </tbody></table>"
      ],
      "text/plain": [
       "<pandas.io.formats.style.Styler at 0x7ff71c53bac0>"
      ]
     },
     "execution_count": 25,
     "metadata": {},
     "output_type": "execute_result"
    }
   ],
   "source": [
    "linkage_purpose_debt = data.groupby('purpose_category').agg({'debt' : ['count', 'mean']}) # Ваш код будет здесь. Вы можете создавать новые ячейки.\n",
    "linkage_purpose_debt.columns = ['Кол-во заемщиков', '% невозврата']\n",
    "linkage_purpose_debt = linkage_purpose_debt.sort_values(by = '% невозврата', ascending = False)\n",
    "linkage_purpose_debt.style.format({'% невозврата':'{:.2%}'})\n"
   ]
  },
  {
   "cell_type": "markdown",
   "id": "37b18224",
   "metadata": {
    "deletable": false,
    "id": "b4bb2ce6"
   },
   "source": [
    "**Вывод:**\n",
    ">Мы видим что займы на операции с недвижимостью самые надежные в аспекте возврата, на проведение свадебы процент невозврата немного больше, а вот в категориях \"получение образования\" и \"операции с автомобилем\" процент невозврата выше существенно."
   ]
  },
  {
   "cell_type": "markdown",
   "id": "7b84fb0e",
   "metadata": {},
   "source": [
    "<div class=\"alert alert-block alert-success\">✔️\n",
    "    \n",
    "\n",
    "__Комментарий от ревьюера №1__\n",
    "\n",
    "Да, по расчетам можно сделать вывод, что самыми проблемными выглядят автокредиты и кредиты на образование.\n",
    "</div>"
   ]
  },
  {
   "cell_type": "markdown",
   "id": "69626dd7",
   "metadata": {
    "deletable": false,
    "editable": false,
    "id": "09c3ac4c"
   },
   "source": [
    "#### 3.5 Приведите возможные причины появления пропусков в исходных данных."
   ]
  },
  {
   "cell_type": "markdown",
   "id": "0cb31eb9",
   "metadata": {
    "deletable": false,
    "id": "9da2ceda"
   },
   "source": [
    "*Ответ:* \n",
    "* Технологические. Возникают во время копирования, считывания или записи данных, изменения формата файла.\n",
    "* Вызванные человеческим фактором. "
   ]
  },
  {
   "cell_type": "markdown",
   "id": "99d5bad7",
   "metadata": {},
   "source": [
    "<div class=\"alert alert-block alert-success\">✔️\n",
    "    \n",
    "\n",
    "__Комментарий от ревьюера №1__\n",
    "\n",
    "Совершенно верно, человеческий фактор (кто-то что-то не ввел, умышленно или нет) также может стать причиной пропусков в данных.\n",
    "</div>"
   ]
  },
  {
   "cell_type": "markdown",
   "id": "22401e9b",
   "metadata": {
    "deletable": false,
    "editable": false,
    "id": "7b0487d6"
   },
   "source": [
    "#### 3.6 Объясните, почему заполнить пропуски медианным значением — лучшее решение для количественных переменных."
   ]
  },
  {
   "cell_type": "markdown",
   "id": "04d5ce37",
   "metadata": {
    "deletable": false,
    "id": "7ecf2b8e"
   },
   "source": [
    "*Ответ:* \n",
    "* В количественных списках,столбцах часто встречаются аномальные значения, в следствие наличия которых среднее значение не коректно характеризует данные.\n"
   ]
  },
  {
   "cell_type": "markdown",
   "id": "cddc1275",
   "metadata": {},
   "source": [
    "<div class=\"alert alert-block alert-success\">✔️\n",
    "    \n",
    "\n",
    "__Комментарий от ревьюера №1__\n",
    "\n",
    "Верно, медиана менее чувствительна к выбросам в данных.\n",
    "</div>"
   ]
  },
  {
   "cell_type": "markdown",
   "id": "db510cd7",
   "metadata": {
    "deletable": false,
    "editable": false,
    "id": "6db5255a"
   },
   "source": [
    "### Шаг 4: общий вывод."
   ]
  },
  {
   "cell_type": "markdown",
   "id": "5e2cce2e",
   "metadata": {
    "deletable": false,
    "id": "bad65432"
   },
   "source": [
    "**Вывод:**\n",
    " > Вдовец или вдова с пятью детьми и доходом от 30001 до 50000, берущий/ая ипотеку, идеальный клиент для кредитной организации.  "
   ]
  },
  {
   "cell_type": "markdown",
   "id": "cc95e670",
   "metadata": {},
   "source": [
    "<div class=\"alert alert-block alert-warning\">📝\n",
    "    \n",
    "\n",
    "__Комментарий от ревьюера №1__\n",
    "\n",
    "Шикарный вывод и рекомендации для бизнеса. Кстати, хорошей практикой является написание в общем выводе всех твоих действий (кратко) по проекту. Ведь вывод раскрывает для заказчика всю твою проделанную работу и за что он платит деньги, даже если ему не интересен весь процесс исследования, то в отчёт он заглянет обязательно."
   ]
  },
  {
   "cell_type": "markdown",
   "id": "ebae21f5",
   "metadata": {},
   "source": [
    "**Вывод:**\n",
    "> Мы приняли участие в исследовании надежности заемщиков! Действия которые мы произвели:\n",
    ">> 1 Ознакомились с предоставленными нам данными.                                   \n",
    ">> 2 Провели предобработку данных. А именно:\n",
    ">>> 2.1 Удалили пропуски(нулевые значения), точнее заменили их подходящими для дальнейшего анализа медианными значениями.       \n",
    ">>> 2.2 Обработали аномальные значения(значения резко отличающиеся от остальных по смыслу или в количественных значениях).            \n",
    ">>> 2.3 Провели работу с дубликатами: полностью совпадающие строки удалили, неявные дубликаты в целях кредитования разнесли по подходящим для анализа категориям.                   \n",
    ">>> 2.4 Категоризацию данных также провели по значениям доходов заемщиков.          \n",
    ">>> 2.5 Изменили тип данных в значениях доходов.  \n",
    ">>\n",
    ">> 3 Исследование данных включает в себя поиск взаимосвязи возврата займа в срок по четырем критериям заемщика.\n",
    ">>> 3.1 Взаимосвязь между возвратом займа в срок и колличеством детей у заемщика.       \n",
    ">>> 3.2 Взаимосвязь между возвратом займа в срок и семейным положением заемщика.                \n",
    ">>> 3.3 Взаимосвязь между возвратом займа в срок и уровнем дохода заемщика.                            \n",
    ">>> 3.4 Взаимосвязь между возвратом займа в срок и целью займа.        \n",
    ">>> 3.5 По четырем выше перечисленным задачам мы составили сводные таблицы и опираясь на сформированные в них данные(общее число заемщиков и процент невозвратов по категориям) мы составили вывод для каждой задачи. \n",
    ">>\n",
    ">> 4 Общий вывод: обработав данные мы можем сделать предположения рода:\n",
    ">> * Вдовец или вдова с пятью детьми и доходом от 30001 до 50000, берущий/ая ипотеку, идеальный клиент для кредитной организации.\n",
    ">> * Безработный холостяк с четырьмя детьми подающий заявку на одобрение займа на покупку автомобиля самая рискованная сделка для банка.   \n",
    ">>  Но на мой взгляд это все крайности с малой вероятностью на существование, мне кажется наше исследование показало что самым широким и оптимально безопастным сегментом для кредитных организаций являются люди состоящие в браке, не имеющие детей, с целью займа на покупку недвижимости, а также люди оформляющие займ на проведение свадьбы.\n"
   ]
  },
  {
   "cell_type": "markdown",
   "id": "d7072e37",
   "metadata": {},
   "source": [
    "<div class=\"alert alert-info\"> <b>Комментарии студента:</b> \n",
    "Не стал удалять первый вариант общего вывода потому что коментарии по нему рекомендательные, но написал второй более развернутый вариант.\n",
    "</div>"
   ]
  },
  {
   "cell_type": "markdown",
   "id": "50f7f0d1",
   "metadata": {},
   "source": [
    "<div class=\"alert alert-block alert-success\">✔️\n",
    "    \n",
    "\n",
    "__Комментарий от ревьюера №2__\n",
    "\n",
    "Супер, старайся, пожалуйста, придерживаться этой стратегии в дальнейших проектах =)\n",
    "</div>"
   ]
  },
  {
   "cell_type": "markdown",
   "id": "b6651f8f",
   "metadata": {},
   "source": [
    "<div style=\"border:solid blue 3px; padding: 20px\">\n",
    "<div class=\"alert alert-block alert-success\">✔️\n",
    "Комментарий от ревьюера №1 </b> \n",
    "\n",
    "\n",
    "\n",
    "У тебя получилась очень сильная и хорошая работа. Здорово, что не забываешь про комментарии, твой проект интересно проверять. \n",
    "\n",
    "---\n",
    "\n",
    "Нужно поправить:\n",
    "\n",
    "1) Ничего, отличная работа!)\n",
    "\n",
    "----\n",
    "\n",
    "\n",
    "Если у тебя будут какие-то вопросы по моим комментариям - обязательно пиши! Буду ждать работу на повторное ревью :)</div>"
   ]
  },
  {
   "cell_type": "markdown",
   "id": "b3b4ff5b",
   "metadata": {},
   "source": [
    "<div style=\"border:solid blue 3px; padding: 20px\">\n",
    "<div class=\"alert alert-block alert-success\">✔️\n",
    "    \n",
    "\n",
    "__Коментарий от ревьюера №2__\n",
    "\n",
    "\n",
    "В остальном всё чудно😊. Твой проект так и просится на github =)   \n",
    "    \n",
    "Поздравляю с успешным завершением проекта 😊👍\n",
    "И желаю успехов в новых работах 😊"
   ]
  },
  {
   "cell_type": "code",
   "execution_count": null,
   "id": "49133349",
   "metadata": {},
   "outputs": [],
   "source": []
  }
 ],
 "metadata": {
  "ExecuteTimeLog": [
   {
    "duration": 52,
    "start_time": "2022-09-28T18:01:17.468Z"
   },
   {
    "duration": 494,
    "start_time": "2022-09-28T18:01:28.651Z"
   },
   {
    "duration": 24,
    "start_time": "2022-09-28T18:01:29.147Z"
   },
   {
    "duration": 19,
    "start_time": "2022-09-28T18:01:29.173Z"
   },
   {
    "duration": 10,
    "start_time": "2022-09-28T18:01:29.194Z"
   },
   {
    "duration": 67,
    "start_time": "2022-09-28T18:01:29.207Z"
   },
   {
    "duration": 3,
    "start_time": "2022-09-28T18:01:29.276Z"
   },
   {
    "duration": 12,
    "start_time": "2022-09-28T18:01:29.280Z"
   },
   {
    "duration": 4,
    "start_time": "2022-09-28T18:01:29.294Z"
   },
   {
    "duration": 12,
    "start_time": "2022-09-28T18:01:29.300Z"
   },
   {
    "duration": 26,
    "start_time": "2022-09-28T18:01:29.314Z"
   },
   {
    "duration": 46,
    "start_time": "2022-09-28T18:01:29.342Z"
   },
   {
    "duration": 12,
    "start_time": "2022-09-28T18:01:29.390Z"
   },
   {
    "duration": 5,
    "start_time": "2022-09-28T18:01:29.403Z"
   },
   {
    "duration": 34,
    "start_time": "2022-09-28T18:01:29.410Z"
   },
   {
    "duration": 23,
    "start_time": "2022-09-28T18:01:29.445Z"
   },
   {
    "duration": 19,
    "start_time": "2022-09-28T18:01:29.469Z"
   },
   {
    "duration": 4,
    "start_time": "2022-09-28T18:01:29.490Z"
   },
   {
    "duration": 43,
    "start_time": "2022-09-28T18:01:29.496Z"
   },
   {
    "duration": 6,
    "start_time": "2022-09-28T18:01:29.540Z"
   },
   {
    "duration": 4,
    "start_time": "2022-09-28T18:01:29.548Z"
   },
   {
    "duration": 33,
    "start_time": "2022-09-28T18:01:29.553Z"
   },
   {
    "duration": 3,
    "start_time": "2022-09-28T18:01:29.587Z"
   },
   {
    "duration": 11,
    "start_time": "2022-09-28T18:01:29.591Z"
   },
   {
    "duration": 9,
    "start_time": "2022-09-28T18:01:29.604Z"
   },
   {
    "duration": 3,
    "start_time": "2022-09-28T18:01:29.638Z"
   },
   {
    "duration": 5,
    "start_time": "2022-09-28T18:04:14.400Z"
   },
   {
    "duration": 88,
    "start_time": "2022-09-28T18:08:42.640Z"
   },
   {
    "duration": 192,
    "start_time": "2022-09-28T18:43:59.985Z"
   },
   {
    "duration": 1345,
    "start_time": "2022-09-28T18:44:10.535Z"
   },
   {
    "duration": 54,
    "start_time": "2022-09-28T18:44:28.961Z"
   },
   {
    "duration": 8,
    "start_time": "2022-09-28T19:22:14.425Z"
   },
   {
    "duration": 23,
    "start_time": "2022-09-28T19:22:29.168Z"
   },
   {
    "duration": 18,
    "start_time": "2022-09-28T19:22:33.092Z"
   },
   {
    "duration": 30,
    "start_time": "2022-09-28T19:22:56.916Z"
   },
   {
    "duration": 44,
    "start_time": "2022-09-29T07:23:27.595Z"
   },
   {
    "duration": 682,
    "start_time": "2022-09-29T07:23:39.474Z"
   },
   {
    "duration": 20,
    "start_time": "2022-09-29T07:23:40.158Z"
   },
   {
    "duration": 14,
    "start_time": "2022-09-29T07:23:40.180Z"
   },
   {
    "duration": 8,
    "start_time": "2022-09-29T07:23:40.196Z"
   },
   {
    "duration": 31,
    "start_time": "2022-09-29T07:23:40.205Z"
   },
   {
    "duration": 3,
    "start_time": "2022-09-29T07:23:40.237Z"
   },
   {
    "duration": 9,
    "start_time": "2022-09-29T07:23:40.242Z"
   },
   {
    "duration": 5,
    "start_time": "2022-09-29T07:23:40.253Z"
   },
   {
    "duration": 9,
    "start_time": "2022-09-29T07:23:40.260Z"
   },
   {
    "duration": 5,
    "start_time": "2022-09-29T07:23:40.300Z"
   },
   {
    "duration": 44,
    "start_time": "2022-09-29T07:23:40.307Z"
   },
   {
    "duration": 10,
    "start_time": "2022-09-29T07:23:40.353Z"
   },
   {
    "duration": 4,
    "start_time": "2022-09-29T07:23:40.364Z"
   },
   {
    "duration": 38,
    "start_time": "2022-09-29T07:23:40.369Z"
   },
   {
    "duration": 25,
    "start_time": "2022-09-29T07:23:40.409Z"
   },
   {
    "duration": 23,
    "start_time": "2022-09-29T07:23:40.436Z"
   },
   {
    "duration": 4,
    "start_time": "2022-09-29T07:23:40.461Z"
   },
   {
    "duration": 12,
    "start_time": "2022-09-29T07:23:40.467Z"
   },
   {
    "duration": 25,
    "start_time": "2022-09-29T07:23:40.480Z"
   },
   {
    "duration": 4,
    "start_time": "2022-09-29T07:23:40.508Z"
   },
   {
    "duration": 33,
    "start_time": "2022-09-29T07:23:40.514Z"
   },
   {
    "duration": 96,
    "start_time": "2022-09-29T07:23:40.549Z"
   },
   {
    "duration": 0,
    "start_time": "2022-09-29T07:23:40.647Z"
   },
   {
    "duration": 0,
    "start_time": "2022-09-29T07:23:40.648Z"
   },
   {
    "duration": 0,
    "start_time": "2022-09-29T07:23:40.650Z"
   },
   {
    "duration": 7,
    "start_time": "2022-09-29T07:23:56.822Z"
   },
   {
    "duration": 8,
    "start_time": "2022-09-29T07:24:41.353Z"
   },
   {
    "duration": 10,
    "start_time": "2022-09-29T07:25:21.615Z"
   },
   {
    "duration": 447,
    "start_time": "2022-09-29T07:25:38.792Z"
   },
   {
    "duration": 20,
    "start_time": "2022-09-29T07:25:39.241Z"
   },
   {
    "duration": 12,
    "start_time": "2022-09-29T07:25:39.263Z"
   },
   {
    "duration": 23,
    "start_time": "2022-09-29T07:25:39.277Z"
   },
   {
    "duration": 31,
    "start_time": "2022-09-29T07:25:39.302Z"
   },
   {
    "duration": 3,
    "start_time": "2022-09-29T07:25:39.334Z"
   },
   {
    "duration": 12,
    "start_time": "2022-09-29T07:25:39.338Z"
   },
   {
    "duration": 3,
    "start_time": "2022-09-29T07:25:39.352Z"
   },
   {
    "duration": 11,
    "start_time": "2022-09-29T07:25:39.356Z"
   },
   {
    "duration": 33,
    "start_time": "2022-09-29T07:25:39.369Z"
   },
   {
    "duration": 50,
    "start_time": "2022-09-29T07:25:39.404Z"
   },
   {
    "duration": 12,
    "start_time": "2022-09-29T07:25:39.456Z"
   },
   {
    "duration": 15,
    "start_time": "2022-09-29T07:25:39.469Z"
   },
   {
    "duration": 24,
    "start_time": "2022-09-29T07:25:39.487Z"
   },
   {
    "duration": 23,
    "start_time": "2022-09-29T07:25:39.513Z"
   },
   {
    "duration": 16,
    "start_time": "2022-09-29T07:25:39.538Z"
   },
   {
    "duration": 4,
    "start_time": "2022-09-29T07:25:39.555Z"
   },
   {
    "duration": 18,
    "start_time": "2022-09-29T07:25:39.560Z"
   },
   {
    "duration": 25,
    "start_time": "2022-09-29T07:25:39.579Z"
   },
   {
    "duration": 5,
    "start_time": "2022-09-29T07:25:39.605Z"
   },
   {
    "duration": 40,
    "start_time": "2022-09-29T07:25:39.612Z"
   },
   {
    "duration": 72,
    "start_time": "2022-09-29T07:25:39.654Z"
   },
   {
    "duration": 0,
    "start_time": "2022-09-29T07:25:39.727Z"
   },
   {
    "duration": 0,
    "start_time": "2022-09-29T07:25:39.728Z"
   },
   {
    "duration": 0,
    "start_time": "2022-09-29T07:25:39.730Z"
   },
   {
    "duration": 9,
    "start_time": "2022-09-29T07:26:05.830Z"
   },
   {
    "duration": 12,
    "start_time": "2022-09-29T07:26:16.577Z"
   },
   {
    "duration": 102,
    "start_time": "2022-09-29T07:43:12.395Z"
   },
   {
    "duration": 398,
    "start_time": "2022-09-29T07:44:20.046Z"
   },
   {
    "duration": 21,
    "start_time": "2022-09-29T07:44:20.445Z"
   },
   {
    "duration": 13,
    "start_time": "2022-09-29T07:44:20.468Z"
   },
   {
    "duration": 19,
    "start_time": "2022-09-29T07:44:20.483Z"
   },
   {
    "duration": 29,
    "start_time": "2022-09-29T07:44:20.504Z"
   },
   {
    "duration": 3,
    "start_time": "2022-09-29T07:44:20.535Z"
   },
   {
    "duration": 8,
    "start_time": "2022-09-29T07:44:23.256Z"
   },
   {
    "duration": 4,
    "start_time": "2022-09-29T07:44:23.266Z"
   },
   {
    "duration": 13,
    "start_time": "2022-09-29T07:44:23.271Z"
   },
   {
    "duration": 4,
    "start_time": "2022-09-29T07:44:23.286Z"
   },
   {
    "duration": 37,
    "start_time": "2022-09-29T07:44:23.291Z"
   },
   {
    "duration": 9,
    "start_time": "2022-09-29T07:44:23.330Z"
   },
   {
    "duration": 4,
    "start_time": "2022-09-29T07:44:23.341Z"
   },
   {
    "duration": 45,
    "start_time": "2022-09-29T07:44:23.348Z"
   },
   {
    "duration": 33,
    "start_time": "2022-09-29T07:44:23.395Z"
   },
   {
    "duration": 18,
    "start_time": "2022-09-29T07:44:23.431Z"
   },
   {
    "duration": 29,
    "start_time": "2022-09-29T07:44:23.451Z"
   },
   {
    "duration": 22,
    "start_time": "2022-09-29T07:44:23.482Z"
   },
   {
    "duration": 6,
    "start_time": "2022-09-29T07:44:23.506Z"
   },
   {
    "duration": 6,
    "start_time": "2022-09-29T07:44:23.514Z"
   },
   {
    "duration": 38,
    "start_time": "2022-09-29T07:44:23.522Z"
   },
   {
    "duration": 15,
    "start_time": "2022-09-29T07:44:23.562Z"
   },
   {
    "duration": 47,
    "start_time": "2022-09-29T07:44:23.578Z"
   },
   {
    "duration": 0,
    "start_time": "2022-09-29T07:44:23.627Z"
   },
   {
    "duration": 0,
    "start_time": "2022-09-29T07:44:23.628Z"
   },
   {
    "duration": 17,
    "start_time": "2022-09-29T07:45:13.228Z"
   },
   {
    "duration": 61,
    "start_time": "2022-09-29T07:55:47.490Z"
   },
   {
    "duration": 12,
    "start_time": "2022-09-29T08:27:26.233Z"
   },
   {
    "duration": 8,
    "start_time": "2022-09-29T08:31:49.602Z"
   },
   {
    "duration": 13,
    "start_time": "2022-09-29T08:32:04.121Z"
   },
   {
    "duration": 12,
    "start_time": "2022-09-29T08:34:06.228Z"
   },
   {
    "duration": 12,
    "start_time": "2022-09-29T08:34:22.337Z"
   },
   {
    "duration": 12,
    "start_time": "2022-09-29T08:34:48.854Z"
   },
   {
    "duration": 13,
    "start_time": "2022-09-29T08:35:41.008Z"
   },
   {
    "duration": 13,
    "start_time": "2022-09-29T08:43:47.986Z"
   },
   {
    "duration": 12,
    "start_time": "2022-09-29T08:44:04.299Z"
   },
   {
    "duration": 13,
    "start_time": "2022-09-29T08:44:33.590Z"
   },
   {
    "duration": 11,
    "start_time": "2022-09-29T08:44:59.521Z"
   },
   {
    "duration": 10,
    "start_time": "2022-09-29T08:48:19.537Z"
   },
   {
    "duration": 15,
    "start_time": "2022-09-29T08:51:56.004Z"
   },
   {
    "duration": 11,
    "start_time": "2022-09-29T08:52:19.216Z"
   },
   {
    "duration": 448,
    "start_time": "2022-09-29T09:00:22.806Z"
   },
   {
    "duration": 15,
    "start_time": "2022-09-29T09:01:05.695Z"
   },
   {
    "duration": 13,
    "start_time": "2022-09-29T09:01:11.762Z"
   },
   {
    "duration": 12,
    "start_time": "2022-09-29T09:01:35.267Z"
   },
   {
    "duration": 12,
    "start_time": "2022-09-29T09:01:40.044Z"
   },
   {
    "duration": 408,
    "start_time": "2022-09-29T09:02:31.336Z"
   },
   {
    "duration": 19,
    "start_time": "2022-09-29T09:02:31.746Z"
   },
   {
    "duration": 15,
    "start_time": "2022-09-29T09:02:31.766Z"
   },
   {
    "duration": 8,
    "start_time": "2022-09-29T09:02:31.783Z"
   },
   {
    "duration": 29,
    "start_time": "2022-09-29T09:02:31.800Z"
   },
   {
    "duration": 3,
    "start_time": "2022-09-29T09:02:31.831Z"
   },
   {
    "duration": 28,
    "start_time": "2022-09-29T09:02:31.836Z"
   },
   {
    "duration": 4,
    "start_time": "2022-09-29T09:02:31.866Z"
   },
   {
    "duration": 8,
    "start_time": "2022-09-29T09:02:31.871Z"
   },
   {
    "duration": 6,
    "start_time": "2022-09-29T09:02:31.881Z"
   },
   {
    "duration": 36,
    "start_time": "2022-09-29T09:02:31.888Z"
   },
   {
    "duration": 7,
    "start_time": "2022-09-29T09:02:31.925Z"
   },
   {
    "duration": 34,
    "start_time": "2022-09-29T09:02:31.934Z"
   },
   {
    "duration": 14,
    "start_time": "2022-09-29T09:02:31.970Z"
   },
   {
    "duration": 26,
    "start_time": "2022-09-29T09:02:31.986Z"
   },
   {
    "duration": 14,
    "start_time": "2022-09-29T09:02:32.013Z"
   },
   {
    "duration": 3,
    "start_time": "2022-09-29T09:02:32.028Z"
   },
   {
    "duration": 11,
    "start_time": "2022-09-29T09:02:32.033Z"
   },
   {
    "duration": 6,
    "start_time": "2022-09-29T09:02:32.045Z"
   },
   {
    "duration": 9,
    "start_time": "2022-09-29T09:02:32.052Z"
   },
   {
    "duration": 39,
    "start_time": "2022-09-29T09:02:32.062Z"
   },
   {
    "duration": 255,
    "start_time": "2022-09-29T09:02:32.103Z"
   },
   {
    "duration": 12,
    "start_time": "2022-09-29T09:02:32.360Z"
   },
   {
    "duration": 11,
    "start_time": "2022-09-29T09:02:32.373Z"
   },
   {
    "duration": 25,
    "start_time": "2022-09-29T09:02:32.386Z"
   },
   {
    "duration": 11,
    "start_time": "2022-09-29T09:05:05.281Z"
   },
   {
    "duration": 12,
    "start_time": "2022-09-29T09:16:54.671Z"
   },
   {
    "duration": 69,
    "start_time": "2022-09-29T09:17:53.264Z"
   },
   {
    "duration": 13,
    "start_time": "2022-09-29T09:18:07.855Z"
   },
   {
    "duration": 12,
    "start_time": "2022-09-29T09:18:16.171Z"
   },
   {
    "duration": 13,
    "start_time": "2022-09-29T09:18:41.577Z"
   },
   {
    "duration": 474,
    "start_time": "2022-09-29T09:19:58.378Z"
   },
   {
    "duration": 21,
    "start_time": "2022-09-29T09:19:58.854Z"
   },
   {
    "duration": 13,
    "start_time": "2022-09-29T09:19:58.876Z"
   },
   {
    "duration": 15,
    "start_time": "2022-09-29T09:19:58.891Z"
   },
   {
    "duration": 38,
    "start_time": "2022-09-29T09:19:58.907Z"
   },
   {
    "duration": 3,
    "start_time": "2022-09-29T09:19:58.946Z"
   },
   {
    "duration": 17,
    "start_time": "2022-09-29T09:19:58.950Z"
   },
   {
    "duration": 4,
    "start_time": "2022-09-29T09:19:58.968Z"
   },
   {
    "duration": 9,
    "start_time": "2022-09-29T09:19:58.973Z"
   },
   {
    "duration": 4,
    "start_time": "2022-09-29T09:19:58.984Z"
   },
   {
    "duration": 34,
    "start_time": "2022-09-29T09:19:58.999Z"
   },
   {
    "duration": 9,
    "start_time": "2022-09-29T09:19:59.034Z"
   },
   {
    "duration": 3,
    "start_time": "2022-09-29T09:19:59.044Z"
   },
   {
    "duration": 12,
    "start_time": "2022-09-29T09:19:59.049Z"
   },
   {
    "duration": 17,
    "start_time": "2022-09-29T09:19:59.062Z"
   },
   {
    "duration": 36,
    "start_time": "2022-09-29T09:19:59.081Z"
   },
   {
    "duration": 4,
    "start_time": "2022-09-29T09:19:59.119Z"
   },
   {
    "duration": 14,
    "start_time": "2022-09-29T09:19:59.124Z"
   },
   {
    "duration": 11,
    "start_time": "2022-09-29T09:19:59.139Z"
   },
   {
    "duration": 6,
    "start_time": "2022-09-29T09:19:59.152Z"
   },
   {
    "duration": 47,
    "start_time": "2022-09-29T09:19:59.159Z"
   },
   {
    "duration": 253,
    "start_time": "2022-09-29T09:19:59.207Z"
   },
   {
    "duration": 13,
    "start_time": "2022-09-29T09:19:59.462Z"
   },
   {
    "duration": 23,
    "start_time": "2022-09-29T09:19:59.477Z"
   },
   {
    "duration": 13,
    "start_time": "2022-09-29T09:19:59.502Z"
   },
   {
    "duration": 13,
    "start_time": "2022-09-29T09:39:45.706Z"
   },
   {
    "duration": 11,
    "start_time": "2022-09-29T09:39:52.735Z"
   },
   {
    "duration": 12,
    "start_time": "2022-09-29T09:39:58.254Z"
   },
   {
    "duration": 12,
    "start_time": "2022-09-29T09:52:23.355Z"
   },
   {
    "duration": 13,
    "start_time": "2022-09-29T09:54:33.985Z"
   },
   {
    "duration": 12,
    "start_time": "2022-09-29T09:55:17.364Z"
   },
   {
    "duration": 11,
    "start_time": "2022-09-29T09:55:39.766Z"
   },
   {
    "duration": 11,
    "start_time": "2022-09-29T09:58:54.259Z"
   },
   {
    "duration": 11,
    "start_time": "2022-09-29T09:59:30.039Z"
   },
   {
    "duration": 13,
    "start_time": "2022-09-29T10:06:47.530Z"
   },
   {
    "duration": 459,
    "start_time": "2022-09-29T10:08:48.897Z"
   },
   {
    "duration": 22,
    "start_time": "2022-09-29T10:08:49.358Z"
   },
   {
    "duration": 15,
    "start_time": "2022-09-29T10:08:49.382Z"
   },
   {
    "duration": 7,
    "start_time": "2022-09-29T10:08:49.401Z"
   },
   {
    "duration": 43,
    "start_time": "2022-09-29T10:08:49.410Z"
   },
   {
    "duration": 3,
    "start_time": "2022-09-29T10:08:49.455Z"
   },
   {
    "duration": 20,
    "start_time": "2022-09-29T10:08:49.460Z"
   },
   {
    "duration": 4,
    "start_time": "2022-09-29T10:08:49.481Z"
   },
   {
    "duration": 14,
    "start_time": "2022-09-29T10:08:49.486Z"
   },
   {
    "duration": 4,
    "start_time": "2022-09-29T10:08:49.502Z"
   },
   {
    "duration": 33,
    "start_time": "2022-09-29T10:08:49.507Z"
   },
   {
    "duration": 9,
    "start_time": "2022-09-29T10:08:49.542Z"
   },
   {
    "duration": 30,
    "start_time": "2022-09-29T10:08:49.552Z"
   },
   {
    "duration": 14,
    "start_time": "2022-09-29T10:08:49.583Z"
   },
   {
    "duration": 17,
    "start_time": "2022-09-29T10:08:49.599Z"
   },
   {
    "duration": 14,
    "start_time": "2022-09-29T10:08:49.618Z"
   },
   {
    "duration": 3,
    "start_time": "2022-09-29T10:08:49.634Z"
   },
   {
    "duration": 16,
    "start_time": "2022-09-29T10:08:49.638Z"
   },
   {
    "duration": 6,
    "start_time": "2022-09-29T10:08:49.655Z"
   },
   {
    "duration": 4,
    "start_time": "2022-09-29T10:08:49.662Z"
   },
   {
    "duration": 9,
    "start_time": "2022-09-29T10:08:49.667Z"
   },
   {
    "duration": 441,
    "start_time": "2022-09-29T10:08:49.678Z"
   },
   {
    "duration": 10,
    "start_time": "2022-09-29T10:08:50.120Z"
   },
   {
    "duration": 18,
    "start_time": "2022-09-29T10:08:50.132Z"
   },
   {
    "duration": 20,
    "start_time": "2022-09-29T10:08:50.151Z"
   },
   {
    "duration": 412,
    "start_time": "2022-09-29T10:49:26.937Z"
   },
   {
    "duration": 20,
    "start_time": "2022-09-29T10:49:27.350Z"
   },
   {
    "duration": 13,
    "start_time": "2022-09-29T10:49:27.372Z"
   },
   {
    "duration": 14,
    "start_time": "2022-09-29T10:49:27.386Z"
   },
   {
    "duration": 31,
    "start_time": "2022-09-29T10:49:27.402Z"
   },
   {
    "duration": 3,
    "start_time": "2022-09-29T10:49:27.435Z"
   },
   {
    "duration": 13,
    "start_time": "2022-09-29T10:49:27.440Z"
   },
   {
    "duration": 5,
    "start_time": "2022-09-29T10:49:27.460Z"
   },
   {
    "duration": 10,
    "start_time": "2022-09-29T10:49:27.467Z"
   },
   {
    "duration": 4,
    "start_time": "2022-09-29T10:49:27.479Z"
   },
   {
    "duration": 44,
    "start_time": "2022-09-29T10:49:27.484Z"
   },
   {
    "duration": 8,
    "start_time": "2022-09-29T10:49:27.530Z"
   },
   {
    "duration": 6,
    "start_time": "2022-09-29T10:49:27.539Z"
   },
   {
    "duration": 12,
    "start_time": "2022-09-29T10:49:27.546Z"
   },
   {
    "duration": 16,
    "start_time": "2022-09-29T10:49:27.559Z"
   },
   {
    "duration": 37,
    "start_time": "2022-09-29T10:49:27.577Z"
   },
   {
    "duration": 4,
    "start_time": "2022-09-29T10:49:27.615Z"
   },
   {
    "duration": 11,
    "start_time": "2022-09-29T10:49:27.620Z"
   },
   {
    "duration": 5,
    "start_time": "2022-09-29T10:49:27.632Z"
   },
   {
    "duration": 6,
    "start_time": "2022-09-29T10:49:27.639Z"
   },
   {
    "duration": 10,
    "start_time": "2022-09-29T10:49:27.647Z"
   },
   {
    "duration": 320,
    "start_time": "2022-09-29T10:49:27.658Z"
   },
   {
    "duration": 11,
    "start_time": "2022-09-29T10:49:27.980Z"
   },
   {
    "duration": 10,
    "start_time": "2022-09-29T10:49:28.000Z"
   },
   {
    "duration": 21,
    "start_time": "2022-09-29T10:49:28.012Z"
   },
   {
    "duration": 430,
    "start_time": "2022-09-29T12:09:13.163Z"
   },
   {
    "duration": 37,
    "start_time": "2022-09-29T12:09:13.596Z"
   },
   {
    "duration": 27,
    "start_time": "2022-09-29T12:09:13.639Z"
   },
   {
    "duration": 9,
    "start_time": "2022-09-29T12:09:13.668Z"
   },
   {
    "duration": 41,
    "start_time": "2022-09-29T12:09:13.679Z"
   },
   {
    "duration": 3,
    "start_time": "2022-09-29T12:09:13.722Z"
   },
   {
    "duration": 12,
    "start_time": "2022-09-29T12:09:13.727Z"
   },
   {
    "duration": 4,
    "start_time": "2022-09-29T12:09:13.740Z"
   },
   {
    "duration": 6,
    "start_time": "2022-09-29T12:09:13.745Z"
   },
   {
    "duration": 5,
    "start_time": "2022-09-29T12:09:13.752Z"
   },
   {
    "duration": 53,
    "start_time": "2022-09-29T12:09:13.758Z"
   },
   {
    "duration": 12,
    "start_time": "2022-09-29T12:09:13.820Z"
   },
   {
    "duration": 3,
    "start_time": "2022-09-29T12:09:13.834Z"
   },
   {
    "duration": 11,
    "start_time": "2022-09-29T12:09:13.839Z"
   },
   {
    "duration": 18,
    "start_time": "2022-09-29T12:09:13.851Z"
   },
   {
    "duration": 13,
    "start_time": "2022-09-29T12:09:13.871Z"
   },
   {
    "duration": 4,
    "start_time": "2022-09-29T12:09:13.886Z"
   },
   {
    "duration": 27,
    "start_time": "2022-09-29T12:09:13.891Z"
   },
   {
    "duration": 13,
    "start_time": "2022-09-29T12:09:13.921Z"
   },
   {
    "duration": 3,
    "start_time": "2022-09-29T12:09:13.936Z"
   },
   {
    "duration": 9,
    "start_time": "2022-09-29T12:09:13.940Z"
   },
   {
    "duration": 319,
    "start_time": "2022-09-29T12:09:13.951Z"
   },
   {
    "duration": 10,
    "start_time": "2022-09-29T12:09:14.272Z"
   },
   {
    "duration": 42,
    "start_time": "2022-09-29T12:09:14.283Z"
   },
   {
    "duration": 11,
    "start_time": "2022-09-29T12:09:14.328Z"
   }
  ],
  "colab": {
   "name": "dpp_template_part2.ipynb",
   "provenance": []
  },
  "kernelspec": {
   "display_name": "Python 3 (ipykernel)",
   "language": "python",
   "name": "python3"
  },
  "language_info": {
   "codemirror_mode": {
    "name": "ipython",
    "version": 3
   },
   "file_extension": ".py",
   "mimetype": "text/x-python",
   "name": "python",
   "nbconvert_exporter": "python",
   "pygments_lexer": "ipython3",
   "version": "3.9.5"
  },
  "toc": {
   "base_numbering": 1,
   "nav_menu": {},
   "number_sections": true,
   "sideBar": true,
   "skip_h1_title": true,
   "title_cell": "Table of Contents",
   "title_sidebar": "Contents",
   "toc_cell": false,
   "toc_position": {
    "height": "calc(100% - 180px)",
    "left": "10px",
    "top": "150px",
    "width": "434px"
   },
   "toc_section_display": true,
   "toc_window_display": true
  }
 },
 "nbformat": 4,
 "nbformat_minor": 5
}
